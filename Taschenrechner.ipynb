{
 "cells": [
  {
   "cell_type": "code",
   "execution_count": 8,
   "metadata": {},
   "outputs": [
    {
     "name": "stdout",
     "output_type": "stream",
     "text": [
      "nr1 50\n",
      "Operator -\n",
      "nr2 45\n",
      "die Antwort ist 5\n"
     ]
    }
   ],
   "source": [
    "from math import *\n",
    "Zahl1 = int(input(\"nr1 \"))\n",
    "Operator = input(\"Operator \")\n",
    "Zahl2 = int(input(\"nr2 \"))\n",
    "\n",
    "if Operator == \"+\":\n",
    "   Ergebnis = Zahl1 + Zahl2\n",
    "if Operator == \"-\":\n",
    "   Ergebnis = Zahl1 - Zahl2\n",
    "if Operator == \"/\":\n",
    "   Ergebnis = Zahl1 / Zahl2\n",
    "if Operator == \"*\":\n",
    "   Ergebnis = Zahl1 * Zahl2\n",
    "\n",
    "print(\"die Antwort ist \"+ str(Ergebnis))"
   ]
  }
 ],
 "metadata": {
  "kernelspec": {
   "display_name": "Python 3",
   "language": "python",
   "name": "python3"
  },
  "language_info": {
   "codemirror_mode": {
    "name": "ipython",
    "version": 3
   },
   "file_extension": ".py",
   "mimetype": "text/x-python",
   "name": "python",
   "nbconvert_exporter": "python",
   "pygments_lexer": "ipython3",
   "version": "3.8.2"
  }
 },
 "nbformat": 4,
 "nbformat_minor": 4
}
